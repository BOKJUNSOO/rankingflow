{
 "cells": [
  {
   "cell_type": "code",
   "execution_count": null,
   "metadata": {},
   "outputs": [
    {
     "data": {
      "text/plain": [
       "[Row(character_name='상남자전사', date='2024-10-11', character_level=276, character_exp=7679468622837, ranking=29991, class='히어로', status='Dowonkyung'),\n",
       " Row(character_name='추나선생님', date='2024-10-11', character_level=276, character_exp=7674026029003, ranking=29992, class='바이퍼', status='Dowonkyung'),\n",
       " Row(character_name='카인열렸따아', date='2024-10-11', character_level=276, character_exp=7671634905232, ranking=29993, class='카인', status='Dowonkyung'),\n",
       " Row(character_name='칠흑먹자나비', date='2024-10-11', character_level=276, character_exp=7669184826707, ranking=29994, class='비숍', status='Dowonkyung'),\n",
       " Row(character_name='세로쉬', date='2024-10-11', character_level=276, character_exp=7666392451590, ranking=29995, class='아델', status='Dowonkyung'),\n",
       " Row(character_name='무당기린', date='2024-10-11', character_level=276, character_exp=7665301903843, ranking=29996, class='라라', status='Dowonkyung'),\n",
       " Row(character_name='평상복', date='2024-10-11', character_level=276, character_exp=7657965070591, ranking=29997, class='메르세데스', status='Dowonkyung'),\n",
       " Row(character_name='ol아l델lo', date='2024-10-11', character_level=276, character_exp=7657228950256, ranking=29998, class='아델', status='Dowonkyung'),\n",
       " Row(character_name='순강이', date='2024-10-11', character_level=276, character_exp=7642195588589, ranking=29999, class='나이트워커', status='Dowonkyung'),\n",
       " Row(character_name='브레게스와치', date='2024-10-11', character_level=276, character_exp=7642092108197, ranking=30000, class='윈드브레이커', status='Dowonkyung')]"
      ]
     },
     "execution_count": 20,
     "metadata": {},
     "output_type": "execute_result"
    }
   ],
   "source": [
    "## USER 테이블 build\n",
    "from pyspark.sql import SparkSession\n",
    "import pyspark.sql.functions as F\n",
    "spark = (\n",
    "    SparkSession.builder \\\n",
    "                .master(\"local\")\n",
    "                .appName(\"World Count\")\n",
    "                .getOrCreate()\n",
    ")\n",
    "file_path = r\"C:\\Users\\brian\\Desktop\\JUNSOO\\Project\\ETL_DATA\\data\\ranking_2024-10-11.json\"\n",
    "df = spark.read.format('json').option(\"multiLine\", True).load(file_path)\n",
    "\n",
    "# 직업명을 제대로 채우기\n",
    "import pyspark.sql.functions as F\n",
    "df = df.select(F.explode(\"ranking\").alias(\"USER\"))\n",
    "df = df.select(\"USER.character_name\",\n",
    "               \"USER.date\",\n",
    "               \"USER.class_name\",\n",
    "               \"USER.sub_class_name\",\n",
    "               \"USER.character_level\",\n",
    "               \"USER.character_exp\",\n",
    "               \"USER.ranking\")\n",
    "df = df.withColumn(\"class\",df[\"sub_class_name\"])\n",
    "df = df.withColumn(\"class\",F.when(df[\"sub_class_name\"]== \"\", df[\"class_name\"]) \\\n",
    "                            .otherwise(df[\"class\"]))\n",
    "df = df.drop(\"class_name\",\"sub_class_name\")\n",
    "\n",
    "\n",
    "# 각 유저의 위치한 지역 컬럼추가\n",
    "df = df.withColumn(\"status\",\n",
    "                   F.when(df[\"character_level\"]>=290,\"Tallahart\") \\\n",
    "                    .when((df[\"character_level\"]<=289)&(df[\"character_level\"]>=285),\"Carcion\") \\\n",
    "                    .when((df[\"character_level\"]<=284)&(df[\"character_level\"]>=280),\"Arteria\") \\\n",
    "                    .when((df[\"character_level\"]<=279)&(df[\"character_level\"]>=275),\"Dowonkyung\") \\\n",
    "                    .when((df[\"character_level\"]<=274)&(df[\"character_level\"]>=270),\"Odium\") \\\n",
    "                    .when((df[\"character_level\"]<=269)&(df[\"character_level\"]>=265),\"HotelArcs\") \\\n",
    "                    .when((df[\"character_level\"]<=264)&(df[\"character_level\"]>=260),\"Cernium\") \\\n",
    "                    .otherwise(\"AcaneRiver\"))\n"
   ]
  }
 ],
 "metadata": {
  "kernelspec": {
   "display_name": "venv",
   "language": "python",
   "name": "python3"
  },
  "language_info": {
   "codemirror_mode": {
    "name": "ipython",
    "version": 3
   },
   "file_extension": ".py",
   "mimetype": "text/x-python",
   "name": "python",
   "nbconvert_exporter": "python",
   "pygments_lexer": "ipython3",
   "version": "3.12.7"
  }
 },
 "nbformat": 4,
 "nbformat_minor": 2
}
